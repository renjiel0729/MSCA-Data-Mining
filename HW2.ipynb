{
 "cells": [
  {
   "cell_type": "markdown",
   "metadata": {},
   "source": [
    "HW2\n",
    "Renjie Liu"
   ]
  },
  {
   "cell_type": "code",
   "execution_count": 6,
   "metadata": {},
   "outputs": [
    {
     "name": "stdout",
     "output_type": "stream",
     "text": [
      "(506, 13)\n"
     ]
    }
   ],
   "source": [
    "import pandas as pd\n",
    "import numpy as np\n",
    "from sklearn.datasets import load_boston\n",
    "from sklearn.model_selection import train_test_split\n",
    "from sklearn.linear_model import LinearRegression\n",
    "import matplotlib.pyplot as plt\n",
    "X, y = load_boston(return_X_y=True)\n",
    "print(X.shape)\n",
    "import warnings\n",
    "warnings.filterwarnings(\"ignore\")"
   ]
  },
  {
   "cell_type": "markdown",
   "metadata": {},
   "source": [
    "1. Select only the variables that you think are appropriate for clustering. These could be all numeric variables or only a subset of them. Selection criteria here is subjective and completely up to you but you will need to provide justification."
   ]
  },
  {
   "cell_type": "code",
   "execution_count": 7,
   "metadata": {},
   "outputs": [],
   "source": [
    "col = ['CRIM','ZN','INDUS','CHAS','NOX','RM','AGE','DIS','RAD','TAX','PTRATIO','B','LSTAT']\n",
    "df = pd.DataFrame(X,columns = col)\n",
    "df['MEDV'] = y\n",
    "a = df[['CRIM','ZN','INDUS','CHAS','NOX','RM','AGE','DIS','RAD','TAX','PTRATIO','B','LSTAT']]\n",
    "b = df['MEDV']"
   ]
  },
  {
   "cell_type": "markdown",
   "metadata": {},
   "source": [
    "from sklearn.feature_selection import RFECV"
   ]
  },
  {
   "cell_type": "markdown",
   "metadata": {},
   "source": [
    "estimator = LinearRegression()\n",
    "selector = RFECV(estimator, step=0.5,scoring='r2').fit(a,b)"
   ]
  },
  {
   "cell_type": "markdown",
   "metadata": {},
   "source": [
    "selector.ranking_"
   ]
  },
  {
   "cell_type": "markdown",
   "metadata": {},
   "source": [
    "1. Select only the variables that you think are appropriate for clustering. These could be all numeric variables or only a subset of them. Selection criteria here is subjective and completely up to you but you will need to provide justification."
   ]
  },
  {
   "cell_type": "markdown",
   "metadata": {},
   "source": [
    "Selct less variables so it can have better business application. Each group will have distinction. Do not select categorical variables. Crime rate is very important for a area, Distance to employment center is also important. Pupil - teacher ratio represents the quality of eudcation of the area, status of the population also means a lot for the area. Last, but not least the value for the house will be very different for different houses. "
   ]
  },
  {
   "cell_type": "code",
   "execution_count": 8,
   "metadata": {},
   "outputs": [
    {
     "data": {
      "text/html": [
       "<div>\n",
       "<style scoped>\n",
       "    .dataframe tbody tr th:only-of-type {\n",
       "        vertical-align: middle;\n",
       "    }\n",
       "\n",
       "    .dataframe tbody tr th {\n",
       "        vertical-align: top;\n",
       "    }\n",
       "\n",
       "    .dataframe thead th {\n",
       "        text-align: right;\n",
       "    }\n",
       "</style>\n",
       "<table border=\"1\" class=\"dataframe\">\n",
       "  <thead>\n",
       "    <tr style=\"text-align: right;\">\n",
       "      <th></th>\n",
       "      <th>MEDV</th>\n",
       "    </tr>\n",
       "  </thead>\n",
       "  <tbody>\n",
       "    <tr>\n",
       "      <th>0</th>\n",
       "      <td>24.0</td>\n",
       "    </tr>\n",
       "    <tr>\n",
       "      <th>1</th>\n",
       "      <td>21.6</td>\n",
       "    </tr>\n",
       "    <tr>\n",
       "      <th>2</th>\n",
       "      <td>34.7</td>\n",
       "    </tr>\n",
       "    <tr>\n",
       "      <th>3</th>\n",
       "      <td>33.4</td>\n",
       "    </tr>\n",
       "    <tr>\n",
       "      <th>4</th>\n",
       "      <td>36.2</td>\n",
       "    </tr>\n",
       "    <tr>\n",
       "      <th>...</th>\n",
       "      <td>...</td>\n",
       "    </tr>\n",
       "    <tr>\n",
       "      <th>501</th>\n",
       "      <td>22.4</td>\n",
       "    </tr>\n",
       "    <tr>\n",
       "      <th>502</th>\n",
       "      <td>20.6</td>\n",
       "    </tr>\n",
       "    <tr>\n",
       "      <th>503</th>\n",
       "      <td>23.9</td>\n",
       "    </tr>\n",
       "    <tr>\n",
       "      <th>504</th>\n",
       "      <td>22.0</td>\n",
       "    </tr>\n",
       "    <tr>\n",
       "      <th>505</th>\n",
       "      <td>11.9</td>\n",
       "    </tr>\n",
       "  </tbody>\n",
       "</table>\n",
       "<p>506 rows × 1 columns</p>\n",
       "</div>"
      ],
      "text/plain": [
       "     MEDV\n",
       "0    24.0\n",
       "1    21.6\n",
       "2    34.7\n",
       "3    33.4\n",
       "4    36.2\n",
       "..    ...\n",
       "501  22.4\n",
       "502  20.6\n",
       "503  23.9\n",
       "504  22.0\n",
       "505  11.9\n",
       "\n",
       "[506 rows x 1 columns]"
      ]
     },
     "execution_count": 8,
     "metadata": {},
     "output_type": "execute_result"
    }
   ],
   "source": [
    "Variables = df[['CRIM','DIS','PTRATIO','LSTAT']]\n",
    "y = df[['MEDV']]\n",
    "y"
   ]
  },
  {
   "cell_type": "markdown",
   "metadata": {},
   "source": [
    "2. Split into train and test (70-30). Scale/normalize (standard scaling or 0-1 minmax scaling) training data and then scale/normalize test data using the scale of the training set. Note: MinMax scaling is preferable for clustering.\n",
    "\n"
   ]
  },
  {
   "cell_type": "code",
   "execution_count": 9,
   "metadata": {},
   "outputs": [
    {
     "data": {
      "text/html": [
       "<div>\n",
       "<style scoped>\n",
       "    .dataframe tbody tr th:only-of-type {\n",
       "        vertical-align: middle;\n",
       "    }\n",
       "\n",
       "    .dataframe tbody tr th {\n",
       "        vertical-align: top;\n",
       "    }\n",
       "\n",
       "    .dataframe thead th {\n",
       "        text-align: right;\n",
       "    }\n",
       "</style>\n",
       "<table border=\"1\" class=\"dataframe\">\n",
       "  <thead>\n",
       "    <tr style=\"text-align: right;\">\n",
       "      <th></th>\n",
       "      <th>CRIM</th>\n",
       "      <th>DIS</th>\n",
       "      <th>PTRATIO</th>\n",
       "      <th>LSTAT</th>\n",
       "      <th>MEDV</th>\n",
       "    </tr>\n",
       "  </thead>\n",
       "  <tbody>\n",
       "    <tr>\n",
       "      <th>0</th>\n",
       "      <td>0.00632</td>\n",
       "      <td>4.0900</td>\n",
       "      <td>15.3</td>\n",
       "      <td>4.98</td>\n",
       "      <td>24.0</td>\n",
       "    </tr>\n",
       "    <tr>\n",
       "      <th>1</th>\n",
       "      <td>0.02731</td>\n",
       "      <td>4.9671</td>\n",
       "      <td>17.8</td>\n",
       "      <td>9.14</td>\n",
       "      <td>21.6</td>\n",
       "    </tr>\n",
       "    <tr>\n",
       "      <th>2</th>\n",
       "      <td>0.02729</td>\n",
       "      <td>4.9671</td>\n",
       "      <td>17.8</td>\n",
       "      <td>4.03</td>\n",
       "      <td>34.7</td>\n",
       "    </tr>\n",
       "    <tr>\n",
       "      <th>3</th>\n",
       "      <td>0.03237</td>\n",
       "      <td>6.0622</td>\n",
       "      <td>18.7</td>\n",
       "      <td>2.94</td>\n",
       "      <td>33.4</td>\n",
       "    </tr>\n",
       "    <tr>\n",
       "      <th>4</th>\n",
       "      <td>0.06905</td>\n",
       "      <td>6.0622</td>\n",
       "      <td>18.7</td>\n",
       "      <td>5.33</td>\n",
       "      <td>36.2</td>\n",
       "    </tr>\n",
       "    <tr>\n",
       "      <th>...</th>\n",
       "      <td>...</td>\n",
       "      <td>...</td>\n",
       "      <td>...</td>\n",
       "      <td>...</td>\n",
       "      <td>...</td>\n",
       "    </tr>\n",
       "    <tr>\n",
       "      <th>501</th>\n",
       "      <td>0.06263</td>\n",
       "      <td>2.4786</td>\n",
       "      <td>21.0</td>\n",
       "      <td>9.67</td>\n",
       "      <td>22.4</td>\n",
       "    </tr>\n",
       "    <tr>\n",
       "      <th>502</th>\n",
       "      <td>0.04527</td>\n",
       "      <td>2.2875</td>\n",
       "      <td>21.0</td>\n",
       "      <td>9.08</td>\n",
       "      <td>20.6</td>\n",
       "    </tr>\n",
       "    <tr>\n",
       "      <th>503</th>\n",
       "      <td>0.06076</td>\n",
       "      <td>2.1675</td>\n",
       "      <td>21.0</td>\n",
       "      <td>5.64</td>\n",
       "      <td>23.9</td>\n",
       "    </tr>\n",
       "    <tr>\n",
       "      <th>504</th>\n",
       "      <td>0.10959</td>\n",
       "      <td>2.3889</td>\n",
       "      <td>21.0</td>\n",
       "      <td>6.48</td>\n",
       "      <td>22.0</td>\n",
       "    </tr>\n",
       "    <tr>\n",
       "      <th>505</th>\n",
       "      <td>0.04741</td>\n",
       "      <td>2.5050</td>\n",
       "      <td>21.0</td>\n",
       "      <td>7.88</td>\n",
       "      <td>11.9</td>\n",
       "    </tr>\n",
       "  </tbody>\n",
       "</table>\n",
       "<p>506 rows × 5 columns</p>\n",
       "</div>"
      ],
      "text/plain": [
       "        CRIM     DIS  PTRATIO  LSTAT  MEDV\n",
       "0    0.00632  4.0900     15.3   4.98  24.0\n",
       "1    0.02731  4.9671     17.8   9.14  21.6\n",
       "2    0.02729  4.9671     17.8   4.03  34.7\n",
       "3    0.03237  6.0622     18.7   2.94  33.4\n",
       "4    0.06905  6.0622     18.7   5.33  36.2\n",
       "..       ...     ...      ...    ...   ...\n",
       "501  0.06263  2.4786     21.0   9.67  22.4\n",
       "502  0.04527  2.2875     21.0   9.08  20.6\n",
       "503  0.06076  2.1675     21.0   5.64  23.9\n",
       "504  0.10959  2.3889     21.0   6.48  22.0\n",
       "505  0.04741  2.5050     21.0   7.88  11.9\n",
       "\n",
       "[506 rows x 5 columns]"
      ]
     },
     "execution_count": 9,
     "metadata": {},
     "output_type": "execute_result"
    }
   ],
   "source": [
    "Variables['MEDV'] = y\n",
    "Variables"
   ]
  },
  {
   "cell_type": "code",
   "execution_count": 10,
   "metadata": {},
   "outputs": [
    {
     "data": {
      "text/html": [
       "<div>\n",
       "<style scoped>\n",
       "    .dataframe tbody tr th:only-of-type {\n",
       "        vertical-align: middle;\n",
       "    }\n",
       "\n",
       "    .dataframe tbody tr th {\n",
       "        vertical-align: top;\n",
       "    }\n",
       "\n",
       "    .dataframe thead th {\n",
       "        text-align: right;\n",
       "    }\n",
       "</style>\n",
       "<table border=\"1\" class=\"dataframe\">\n",
       "  <thead>\n",
       "    <tr style=\"text-align: right;\">\n",
       "      <th></th>\n",
       "      <th>CRIM</th>\n",
       "      <th>DIS</th>\n",
       "      <th>PTRATIO</th>\n",
       "      <th>LSTAT</th>\n",
       "      <th>MEDV</th>\n",
       "    </tr>\n",
       "  </thead>\n",
       "  <tbody>\n",
       "    <tr>\n",
       "      <th>99</th>\n",
       "      <td>0.06860</td>\n",
       "      <td>3.4952</td>\n",
       "      <td>18.0</td>\n",
       "      <td>6.19</td>\n",
       "      <td>33.2</td>\n",
       "    </tr>\n",
       "    <tr>\n",
       "      <th>102</th>\n",
       "      <td>0.22876</td>\n",
       "      <td>2.7147</td>\n",
       "      <td>20.9</td>\n",
       "      <td>10.63</td>\n",
       "      <td>18.6</td>\n",
       "    </tr>\n",
       "    <tr>\n",
       "      <th>416</th>\n",
       "      <td>10.83420</td>\n",
       "      <td>1.8195</td>\n",
       "      <td>20.2</td>\n",
       "      <td>25.79</td>\n",
       "      <td>7.5</td>\n",
       "    </tr>\n",
       "    <tr>\n",
       "      <th>266</th>\n",
       "      <td>0.78570</td>\n",
       "      <td>2.1329</td>\n",
       "      <td>13.0</td>\n",
       "      <td>14.79</td>\n",
       "      <td>30.7</td>\n",
       "    </tr>\n",
       "    <tr>\n",
       "      <th>101</th>\n",
       "      <td>0.11432</td>\n",
       "      <td>2.8561</td>\n",
       "      <td>20.9</td>\n",
       "      <td>7.67</td>\n",
       "      <td>26.5</td>\n",
       "    </tr>\n",
       "  </tbody>\n",
       "</table>\n",
       "</div>"
      ],
      "text/plain": [
       "         CRIM     DIS  PTRATIO  LSTAT  MEDV\n",
       "99    0.06860  3.4952     18.0   6.19  33.2\n",
       "102   0.22876  2.7147     20.9  10.63  18.6\n",
       "416  10.83420  1.8195     20.2  25.79   7.5\n",
       "266   0.78570  2.1329     13.0  14.79  30.7\n",
       "101   0.11432  2.8561     20.9   7.67  26.5"
      ]
     },
     "execution_count": 10,
     "metadata": {},
     "output_type": "execute_result"
    }
   ],
   "source": [
    "Xtrain, Xtest,Ytrain,Ytest = train_test_split(Variables, y,test_size=0.3,random_state = 1234)\n",
    "Xtrain.head()"
   ]
  },
  {
   "cell_type": "code",
   "execution_count": 13,
   "metadata": {},
   "outputs": [
    {
     "name": "stdout",
     "output_type": "stream",
     "text": [
      "(152, 5)\n"
     ]
    }
   ],
   "source": [
    "print(Xtest.shape)"
   ]
  },
  {
   "cell_type": "code",
   "execution_count": 14,
   "metadata": {},
   "outputs": [
    {
     "name": "stdout",
     "output_type": "stream",
     "text": [
      "(152, 1)\n"
     ]
    }
   ],
   "source": [
    "print(Ytest.shape)"
   ]
  },
  {
   "cell_type": "code",
   "execution_count": 21,
   "metadata": {},
   "outputs": [],
   "source": [
    "from sklearn.preprocessing import MinMaxScaler\n",
    "scaler = MinMaxScaler()\n",
    "scaler.fit(Xtrain)\n",
    "X_train_scale = scaler.transform(Xtrain)\n",
    "X_test_scale = scaler.transform(Xtest)"
   ]
  },
  {
   "cell_type": "code",
   "execution_count": 23,
   "metadata": {},
   "outputs": [
    {
     "data": {
      "text/html": [
       "<div>\n",
       "<style scoped>\n",
       "    .dataframe tbody tr th:only-of-type {\n",
       "        vertical-align: middle;\n",
       "    }\n",
       "\n",
       "    .dataframe tbody tr th {\n",
       "        vertical-align: top;\n",
       "    }\n",
       "\n",
       "    .dataframe thead th {\n",
       "        text-align: right;\n",
       "    }\n",
       "</style>\n",
       "<table border=\"1\" class=\"dataframe\">\n",
       "  <thead>\n",
       "    <tr style=\"text-align: right;\">\n",
       "      <th></th>\n",
       "      <th>0</th>\n",
       "      <th>1</th>\n",
       "      <th>2</th>\n",
       "      <th>3</th>\n",
       "      <th>4</th>\n",
       "    </tr>\n",
       "  </thead>\n",
       "  <tbody>\n",
       "    <tr>\n",
       "      <th>0</th>\n",
       "      <td>0.000669</td>\n",
       "      <td>0.250167</td>\n",
       "      <td>0.574468</td>\n",
       "      <td>0.123068</td>\n",
       "      <td>0.615561</td>\n",
       "    </tr>\n",
       "    <tr>\n",
       "      <th>1</th>\n",
       "      <td>0.002469</td>\n",
       "      <td>0.167627</td>\n",
       "      <td>0.882979</td>\n",
       "      <td>0.245585</td>\n",
       "      <td>0.281465</td>\n",
       "    </tr>\n",
       "    <tr>\n",
       "      <th>2</th>\n",
       "      <td>0.121676</td>\n",
       "      <td>0.072958</td>\n",
       "      <td>0.808511</td>\n",
       "      <td>0.663907</td>\n",
       "      <td>0.027460</td>\n",
       "    </tr>\n",
       "    <tr>\n",
       "      <th>3</th>\n",
       "      <td>0.008730</td>\n",
       "      <td>0.106101</td>\n",
       "      <td>0.042553</td>\n",
       "      <td>0.360375</td>\n",
       "      <td>0.558352</td>\n",
       "    </tr>\n",
       "    <tr>\n",
       "      <th>4</th>\n",
       "      <td>0.001183</td>\n",
       "      <td>0.182581</td>\n",
       "      <td>0.882979</td>\n",
       "      <td>0.163907</td>\n",
       "      <td>0.462243</td>\n",
       "    </tr>\n",
       "  </tbody>\n",
       "</table>\n",
       "</div>"
      ],
      "text/plain": [
       "          0         1         2         3         4\n",
       "0  0.000669  0.250167  0.574468  0.123068  0.615561\n",
       "1  0.002469  0.167627  0.882979  0.245585  0.281465\n",
       "2  0.121676  0.072958  0.808511  0.663907  0.027460\n",
       "3  0.008730  0.106101  0.042553  0.360375  0.558352\n",
       "4  0.001183  0.182581  0.882979  0.163907  0.462243"
      ]
     },
     "execution_count": 23,
     "metadata": {},
     "output_type": "execute_result"
    }
   ],
   "source": [
    "X_train_scale = pd.DataFrame(X_train_scale)\n",
    "X_test_scale = pd.DataFrame(X_test_scale)\n",
    "X_train_scale.head()"
   ]
  },
  {
   "cell_type": "code",
   "execution_count": 24,
   "metadata": {},
   "outputs": [
    {
     "data": {
      "text/html": [
       "<div>\n",
       "<style scoped>\n",
       "    .dataframe tbody tr th:only-of-type {\n",
       "        vertical-align: middle;\n",
       "    }\n",
       "\n",
       "    .dataframe tbody tr th {\n",
       "        vertical-align: top;\n",
       "    }\n",
       "\n",
       "    .dataframe thead th {\n",
       "        text-align: right;\n",
       "    }\n",
       "</style>\n",
       "<table border=\"1\" class=\"dataframe\">\n",
       "  <thead>\n",
       "    <tr style=\"text-align: right;\">\n",
       "      <th></th>\n",
       "      <th>0</th>\n",
       "      <th>1</th>\n",
       "      <th>2</th>\n",
       "      <th>3</th>\n",
       "      <th>4</th>\n",
       "    </tr>\n",
       "  </thead>\n",
       "  <tbody>\n",
       "    <tr>\n",
       "      <th>0</th>\n",
       "      <td>0.000117</td>\n",
       "      <td>0.855881</td>\n",
       "      <td>0.638298</td>\n",
       "      <td>0.174393</td>\n",
       "      <td>0.610984</td>\n",
       "    </tr>\n",
       "    <tr>\n",
       "      <th>1</th>\n",
       "      <td>0.001569</td>\n",
       "      <td>0.174300</td>\n",
       "      <td>0.882979</td>\n",
       "      <td>0.212196</td>\n",
       "      <td>0.485126</td>\n",
       "    </tr>\n",
       "    <tr>\n",
       "      <th>2</th>\n",
       "      <td>0.281419</td>\n",
       "      <td>0.048561</td>\n",
       "      <td>0.808511</td>\n",
       "      <td>0.690949</td>\n",
       "      <td>-0.016018</td>\n",
       "    </tr>\n",
       "    <tr>\n",
       "      <th>3</th>\n",
       "      <td>0.041191</td>\n",
       "      <td>0.302672</td>\n",
       "      <td>0.808511</td>\n",
       "      <td>0.244205</td>\n",
       "      <td>0.340961</td>\n",
       "    </tr>\n",
       "    <tr>\n",
       "      <th>4</th>\n",
       "      <td>0.106832</td>\n",
       "      <td>0.144510</td>\n",
       "      <td>0.808511</td>\n",
       "      <td>0.468543</td>\n",
       "      <td>0.196796</td>\n",
       "    </tr>\n",
       "  </tbody>\n",
       "</table>\n",
       "</div>"
      ],
      "text/plain": [
       "          0         1         2         3         4\n",
       "0  0.000117  0.855881  0.638298  0.174393  0.610984\n",
       "1  0.001569  0.174300  0.882979  0.212196  0.485126\n",
       "2  0.281419  0.048561  0.808511  0.690949 -0.016018\n",
       "3  0.041191  0.302672  0.808511  0.244205  0.340961\n",
       "4  0.106832  0.144510  0.808511  0.468543  0.196796"
      ]
     },
     "execution_count": 24,
     "metadata": {},
     "output_type": "execute_result"
    }
   ],
   "source": [
    "X_test_scale.head()"
   ]
  },
  {
   "cell_type": "markdown",
   "metadata": {},
   "source": [
    "3. Run k means on training data with 2 through 10 clusters as a solution. Always set.seed() for reproducibility of the code. Select nstart(R code), n_init (Python code) number from 50 to 100. Use a loop and save the necessary information you might need, such as VAF, cluster sizes, and cluster centroids. If you can plot some of these clusters, it is great. But not as such requirement of an assignment."
   ]
  },
  {
   "cell_type": "code",
   "execution_count": 10,
   "metadata": {},
   "outputs": [
    {
     "data": {
      "text/html": [
       "<div>\n",
       "<style scoped>\n",
       "    .dataframe tbody tr th:only-of-type {\n",
       "        vertical-align: middle;\n",
       "    }\n",
       "\n",
       "    .dataframe tbody tr th {\n",
       "        vertical-align: top;\n",
       "    }\n",
       "\n",
       "    .dataframe thead th {\n",
       "        text-align: right;\n",
       "    }\n",
       "</style>\n",
       "<table border=\"1\" class=\"dataframe\">\n",
       "  <thead>\n",
       "    <tr style=\"text-align: right;\">\n",
       "      <th></th>\n",
       "      <th>K</th>\n",
       "      <th>VAF</th>\n",
       "    </tr>\n",
       "  </thead>\n",
       "  <tbody>\n",
       "    <tr>\n",
       "      <th>0</th>\n",
       "      <td>2</td>\n",
       "      <td>41.026180</td>\n",
       "    </tr>\n",
       "    <tr>\n",
       "      <th>1</th>\n",
       "      <td>3</td>\n",
       "      <td>32.728008</td>\n",
       "    </tr>\n",
       "    <tr>\n",
       "      <th>2</th>\n",
       "      <td>4</td>\n",
       "      <td>27.552310</td>\n",
       "    </tr>\n",
       "    <tr>\n",
       "      <th>3</th>\n",
       "      <td>5</td>\n",
       "      <td>22.893093</td>\n",
       "    </tr>\n",
       "    <tr>\n",
       "      <th>4</th>\n",
       "      <td>6</td>\n",
       "      <td>20.264760</td>\n",
       "    </tr>\n",
       "    <tr>\n",
       "      <th>5</th>\n",
       "      <td>7</td>\n",
       "      <td>18.137276</td>\n",
       "    </tr>\n",
       "    <tr>\n",
       "      <th>6</th>\n",
       "      <td>8</td>\n",
       "      <td>16.507728</td>\n",
       "    </tr>\n",
       "    <tr>\n",
       "      <th>7</th>\n",
       "      <td>9</td>\n",
       "      <td>15.052957</td>\n",
       "    </tr>\n",
       "    <tr>\n",
       "      <th>8</th>\n",
       "      <td>10</td>\n",
       "      <td>13.955906</td>\n",
       "    </tr>\n",
       "  </tbody>\n",
       "</table>\n",
       "</div>"
      ],
      "text/plain": [
       "    K        VAF\n",
       "0   2  41.026180\n",
       "1   3  32.728008\n",
       "2   4  27.552310\n",
       "3   5  22.893093\n",
       "4   6  20.264760\n",
       "5   7  18.137276\n",
       "6   8  16.507728\n",
       "7   9  15.052957\n",
       "8  10  13.955906"
      ]
     },
     "execution_count": 10,
     "metadata": {},
     "output_type": "execute_result"
    }
   ],
   "source": [
    "from sklearn.cluster import KMeans\n",
    "centroids = []\n",
    "labels = []\n",
    "VAF = []\n",
    "for i in range(2,11):\n",
    "    x=KMeans(n_clusters=i, n_init=80, max_iter=300, tol=0.0001, verbose=0,random_state = 1234)\n",
    "    x.fit(X_train_scale)\n",
    "    centroids.append(x.cluster_centers_)\n",
    "    labels.append(x.labels_)\n",
    "    VAF.append(x.inertia_)\n",
    "\n",
    "VAF_K = []\n",
    "for i in range(2,11):\n",
    "    VAF_K.append([i,VAF[i-2]])\n",
    "VAF_K = pd.DataFrame(VAF_K, columns=[\"K\", \"VAF\"]) \n",
    "VAF_K "
   ]
  },
  {
   "cell_type": "code",
   "execution_count": 11,
   "metadata": {},
   "outputs": [],
   "source": [
    "import matplotlib.pyplot as plt"
   ]
  },
  {
   "cell_type": "markdown",
   "metadata": {},
   "source": [
    "4. Show the Scree plot and justify your selection of number of clusters (best K) based on the VAF and elbow feature or any other factors you think might be relevant.\n",
    "\n"
   ]
  },
  {
   "cell_type": "code",
   "execution_count": 12,
   "metadata": {},
   "outputs": [
    {
     "data": {
      "image/png": "[encoded data removed]",
      "text/plain": [
       "<Figure size 432x288 with 1 Axes>"
      ]
     },
     "metadata": {
      "needs_background": "light"
     },
     "output_type": "display_data"
    }
   ],
   "source": [
    "plt.scatter(VAF_K.iloc[:,0], VAF_K.iloc[:,1], alpha=0.5)\n",
    "plt.show()"
   ]
  },
  {
   "cell_type": "markdown",
   "metadata": {},
   "source": [
    "Using the elbow rule the k should be 5 since the curve is becoming flat\n"
   ]
  },
  {
   "cell_type": "markdown",
   "metadata": {},
   "source": [
    "5. Run Kmeans (train Best K) on the test data set with the centers of the clusters from the train data solution as a starting point. Compare VAF, size of clusters, and centers of clusters of train and test solution. \n",
    "\n",
    "test.cluster = kmeans(X.test.scale, center=train.cluster$centers,nstart=50)"
   ]
  },
  {
   "cell_type": "code",
   "execution_count": 13,
   "metadata": {},
   "outputs": [
    {
     "data": {
      "text/plain": [
       "array([[0.01914717, 0.23095295, 0.73225381, 0.26453681, 0.34837286],\n",
       "       [0.00095198, 0.58341805, 0.55232892, 0.19101262, 0.39343806],\n",
       "       [0.0090496 , 0.28492346, 0.40988736, 0.08987469, 0.75052721],\n",
       "       [0.11673475, 0.11090007, 0.81572948, 0.54541811, 0.16511387],\n",
       "       [0.01641859, 0.13846816, 0.24867021, 0.37268902, 0.32837529]])"
      ]
     },
     "execution_count": 13,
     "metadata": {},
     "output_type": "execute_result"
    }
   ],
   "source": [
    "bestk=KMeans(n_clusters=5,n_init=100, max_iter=300, tol=0.0001, verbose=0,random_state = 1234)\n",
    "bestk.fit(X_train_scale)\n",
    "bestk_centers = bestk.cluster_centers_\n",
    "bestk_centers"
   ]
  },
  {
   "cell_type": "code",
   "execution_count": 14,
   "metadata": {},
   "outputs": [
    {
     "data": {
      "text/plain": [
       "array([[1.18438223e-02, 2.40665602e-01, 7.29574468e-01, 2.92792494e-01,\n",
       "        3.40686499e-01],\n",
       "       [6.50320364e-04, 6.92875801e-01, 5.10638298e-01, 1.46278776e-01,\n",
       "        4.29421380e-01],\n",
       "       [7.57151224e-03, 2.32195425e-01, 3.93057111e-01, 8.51196700e-02,\n",
       "        8.02360593e-01],\n",
       "       [1.82309174e-01, 6.68633651e-02, 8.13829787e-01, 5.67581862e-01,\n",
       "        1.42829901e-01],\n",
       "       [1.26416619e-02, 1.64830110e-01, 2.57092199e-01, 3.62582781e-01,\n",
       "        3.64416476e-01]])"
      ]
     },
     "execution_count": 14,
     "metadata": {},
     "output_type": "execute_result"
    }
   ],
   "source": [
    "test = KMeans(n_clusters=5,init = bestk_centers,max_iter=300, tol=0.0001, verbose=0,random_state = 1234)\n",
    "test.fit(X_test_scale)\n",
    "test_centers = test.cluster_centers_\n",
    "test_centers"
   ]
  },
  {
   "cell_type": "code",
   "execution_count": 15,
   "metadata": {},
   "outputs": [],
   "source": [
    "centroids_dataframe = pd.DataFrame(data=bestk_centers)\n",
    "centroids_matrix = centroids_dataframe.values\n",
    "X_train_scale_np = np.array(X_train_scale)"
   ]
  },
  {
   "cell_type": "code",
   "execution_count": 16,
   "metadata": {},
   "outputs": [],
   "source": [
    "shap = (len(X_train_scale),5)\n",
    "cluster_matrix = np.zeros(shap)\n",
    "\n",
    "for i in range(5):     \n",
    "    cluster_matrix[bestk.labels_ == i,i]=1.0\n",
    "\n",
    "predicted_data = np.dot(cluster_matrix,centroids_matrix)"
   ]
  },
  {
   "cell_type": "code",
   "execution_count": 17,
   "metadata": {},
   "outputs": [
    {
     "name": "stdout",
     "output_type": "stream",
     "text": [
      "\n",
      "The R-Square for train's 5 clusters is 0.8209172830158126\n"
     ]
    }
   ],
   "source": [
    "shap2 = (len(X_train_scale)*5,1)\n",
    "print (\"\\nThe R-Square for train's\", 5, \"clusters is\", (np.corrcoef(predicted_data.ravel(), X_train_scale_np.ravel())[0,1])**2)"
   ]
  },
  {
   "cell_type": "code",
   "execution_count": 18,
   "metadata": {},
   "outputs": [],
   "source": [
    "centroids_dataframe = pd.DataFrame(data=test_centers)\n",
    "centroids_matrix = centroids_dataframe.values\n",
    "X_test_scale_np = np.array(X_test_scale)"
   ]
  },
  {
   "cell_type": "code",
   "execution_count": 19,
   "metadata": {},
   "outputs": [],
   "source": [
    "shap = (len(X_test_scale),5)\n",
    "cluster_matrix = np.zeros(shap)\n",
    "\n",
    "for i in range(5):     \n",
    "    cluster_matrix[test.labels_ == i,i]=1.0\n",
    "\n",
    "predicted_data = np.dot(cluster_matrix,centroids_matrix)"
   ]
  },
  {
   "cell_type": "code",
   "execution_count": 20,
   "metadata": {},
   "outputs": [
    {
     "name": "stdout",
     "output_type": "stream",
     "text": [
      "\n",
      "The R-Square for test's 5 clusters is 0.829850546229079\n"
     ]
    }
   ],
   "source": [
    "shap2 = (len(X_test_scale)*5,1)\n",
    "print (\"\\nThe R-Square for test's\", 5, \"clusters is\", (np.corrcoef(predicted_data.ravel(), X_test_scale_np.ravel())[0,1])**2)"
   ]
  },
  {
   "cell_type": "code",
   "execution_count": 21,
   "metadata": {},
   "outputs": [
    {
     "data": {
      "text/plain": [
       "array([113,  74,  51,  84,  32])"
      ]
     },
     "execution_count": 21,
     "metadata": {},
     "output_type": "execute_result"
    }
   ],
   "source": [
    "train_cluster_size = np.bincount(bestk.labels_)\n",
    "train_cluster_size"
   ]
  },
  {
   "cell_type": "code",
   "execution_count": 22,
   "metadata": {},
   "outputs": [
    {
     "data": {
      "text/plain": [
       "array([1, 0, 3, 0, 3, 1, 0, 3, 1, 2, 3, 0, 0, 0, 1, 1, 3, 0, 3, 3, 1, 1,\n",
       "       0, 4, 0, 1, 0, 0, 1, 0, 1, 0, 0, 3, 1, 3, 4, 0, 3, 3, 3, 0, 2, 0,\n",
       "       3, 1, 1, 2, 0, 1, 0, 2, 4, 0, 2, 1, 3, 1, 1, 0, 2, 3, 0, 2, 3, 1,\n",
       "       2, 0, 2, 2, 4, 0, 3, 4, 0, 3, 2, 1, 3, 3, 2, 2, 0, 3, 2, 3, 1, 1,\n",
       "       0, 1, 0, 3, 0, 0, 4, 2, 3, 1, 1, 1, 0, 4, 4, 3, 3, 2, 3, 3, 4, 0,\n",
       "       3, 1, 0, 1, 4, 1, 2, 1, 3, 2, 0, 0, 0, 1, 0, 1, 1, 1, 0, 0, 0, 4,\n",
       "       3, 3, 0, 3, 0, 2, 3, 4, 0, 3, 0, 0, 1, 0, 0, 0, 1, 3, 0, 0],\n",
       "      dtype=int32)"
      ]
     },
     "execution_count": 22,
     "metadata": {},
     "output_type": "execute_result"
    }
   ],
   "source": [
    "test.labels_"
   ]
  },
  {
   "cell_type": "code",
   "execution_count": 23,
   "metadata": {},
   "outputs": [
    {
     "data": {
      "text/plain": [
       "array([50, 35, 19, 36, 12])"
      ]
     },
     "execution_count": 23,
     "metadata": {},
     "output_type": "execute_result"
    }
   ],
   "source": [
    "test_cluster_size = np.bincount(test.labels_)\n",
    "test_cluster_size"
   ]
  },
  {
   "cell_type": "markdown",
   "metadata": {},
   "source": [
    "The VAF = 0.821 is similar for the train than the test VAF = 0.8299. The cluster size porportation is similar between the train and the test data. The center is also similar between the test and the train. "
   ]
  },
  {
   "cell_type": "markdown",
   "metadata": {},
   "source": [
    "train_cluster_size = np.bincount(bestk.labels_)\n",
    "train_cluster_size"
   ]
  },
  {
   "cell_type": "markdown",
   "metadata": {},
   "source": [
    "6. Consider restoring centers to original values by reversing scale function you chose. Interpret the centers of train & test clusters. Good results will have stability (centroid should be similar/unchanged) between train and test. What kind of groups have been created? \n",
    "\n"
   ]
  },
  {
   "cell_type": "code",
   "execution_count": 24,
   "metadata": {},
   "outputs": [],
   "source": [
    "def scaleback(df):\n",
    "    df = pd.DataFrame(df)\n",
    "    df.columns = Variables.columns\n",
    "    ori = pd.DataFrame()\n",
    "    for i in Variables:\n",
    "        minmax_range = max(Xtrain[i]) - min(Xtrain[i])\n",
    "        ori[i] = df[i].apply(lambda x : x*minmax_range + min(Xtrain[i]))\n",
    "    return ori"
   ]
  },
  {
   "cell_type": "code",
   "execution_count": 25,
   "metadata": {},
   "outputs": [
    {
     "data": {
      "text/html": [
       "<div>\n",
       "<style scoped>\n",
       "    .dataframe tbody tr th:only-of-type {\n",
       "        vertical-align: middle;\n",
       "    }\n",
       "\n",
       "    .dataframe tbody tr th {\n",
       "        vertical-align: top;\n",
       "    }\n",
       "\n",
       "    .dataframe thead th {\n",
       "        text-align: right;\n",
       "    }\n",
       "</style>\n",
       "<table border=\"1\" class=\"dataframe\">\n",
       "  <thead>\n",
       "    <tr style=\"text-align: right;\">\n",
       "      <th></th>\n",
       "      <th>CRIM</th>\n",
       "      <th>DIS</th>\n",
       "      <th>PTRATIO</th>\n",
       "      <th>LSTAT</th>\n",
       "      <th>MEDV</th>\n",
       "    </tr>\n",
       "  </thead>\n",
       "  <tbody>\n",
       "    <tr>\n",
       "      <th>0</th>\n",
       "      <td>1.062771</td>\n",
       "      <td>3.405358</td>\n",
       "      <td>19.458000</td>\n",
       "      <td>12.340800</td>\n",
       "      <td>21.188000</td>\n",
       "    </tr>\n",
       "    <tr>\n",
       "      <th>1</th>\n",
       "      <td>0.066917</td>\n",
       "      <td>7.681503</td>\n",
       "      <td>17.400000</td>\n",
       "      <td>7.031143</td>\n",
       "      <td>25.065714</td>\n",
       "    </tr>\n",
       "    <tr>\n",
       "      <th>2</th>\n",
       "      <td>0.682676</td>\n",
       "      <td>3.325263</td>\n",
       "      <td>16.294737</td>\n",
       "      <td>4.814737</td>\n",
       "      <td>41.363158</td>\n",
       "    </tr>\n",
       "    <tr>\n",
       "      <th>3</th>\n",
       "      <td>16.228586</td>\n",
       "      <td>1.761867</td>\n",
       "      <td>20.250000</td>\n",
       "      <td>22.299167</td>\n",
       "      <td>12.541667</td>\n",
       "    </tr>\n",
       "    <tr>\n",
       "      <th>4</th>\n",
       "      <td>1.133753</td>\n",
       "      <td>2.688250</td>\n",
       "      <td>15.016667</td>\n",
       "      <td>14.870000</td>\n",
       "      <td>22.225000</td>\n",
       "    </tr>\n",
       "  </tbody>\n",
       "</table>\n",
       "</div>"
      ],
      "text/plain": [
       "        CRIM       DIS    PTRATIO      LSTAT       MEDV\n",
       "0   1.062771  3.405358  19.458000  12.340800  21.188000\n",
       "1   0.066917  7.681503  17.400000   7.031143  25.065714\n",
       "2   0.682676  3.325263  16.294737   4.814737  41.363158\n",
       "3  16.228586  1.761867  20.250000  22.299167  12.541667\n",
       "4   1.133753  2.688250  15.016667  14.870000  22.225000"
      ]
     },
     "execution_count": 25,
     "metadata": {},
     "output_type": "execute_result"
    }
   ],
   "source": [
    "test_centers_back = scaleback(test_centers)\n",
    "test_centers_back"
   ]
  },
  {
   "cell_type": "code",
   "execution_count": 26,
   "metadata": {},
   "outputs": [
    {
     "data": {
      "text/html": [
       "<div>\n",
       "<style scoped>\n",
       "    .dataframe tbody tr th:only-of-type {\n",
       "        vertical-align: middle;\n",
       "    }\n",
       "\n",
       "    .dataframe tbody tr th {\n",
       "        vertical-align: top;\n",
       "    }\n",
       "\n",
       "    .dataframe thead th {\n",
       "        text-align: right;\n",
       "    }\n",
       "</style>\n",
       "<table border=\"1\" class=\"dataframe\">\n",
       "  <thead>\n",
       "    <tr style=\"text-align: right;\">\n",
       "      <th></th>\n",
       "      <th>CRIM</th>\n",
       "      <th>DIS</th>\n",
       "      <th>PTRATIO</th>\n",
       "      <th>LSTAT</th>\n",
       "      <th>MEDV</th>\n",
       "    </tr>\n",
       "  </thead>\n",
       "  <tbody>\n",
       "    <tr>\n",
       "      <th>0</th>\n",
       "      <td>1.712529</td>\n",
       "      <td>3.313514</td>\n",
       "      <td>19.483186</td>\n",
       "      <td>11.316814</td>\n",
       "      <td>21.523894</td>\n",
       "    </tr>\n",
       "    <tr>\n",
       "      <th>1</th>\n",
       "      <td>0.093755</td>\n",
       "      <td>6.646459</td>\n",
       "      <td>17.791892</td>\n",
       "      <td>8.652297</td>\n",
       "      <td>23.493243</td>\n",
       "    </tr>\n",
       "    <tr>\n",
       "      <th>2</th>\n",
       "      <td>0.814177</td>\n",
       "      <td>3.823865</td>\n",
       "      <td>16.452941</td>\n",
       "      <td>4.987059</td>\n",
       "      <td>39.098039</td>\n",
       "    </tr>\n",
       "    <tr>\n",
       "      <th>3</th>\n",
       "      <td>10.394617</td>\n",
       "      <td>2.178282</td>\n",
       "      <td>20.267857</td>\n",
       "      <td>21.495952</td>\n",
       "      <td>13.515476</td>\n",
       "    </tr>\n",
       "    <tr>\n",
       "      <th>4</th>\n",
       "      <td>1.469775</td>\n",
       "      <td>2.438969</td>\n",
       "      <td>14.937500</td>\n",
       "      <td>15.236250</td>\n",
       "      <td>20.650000</td>\n",
       "    </tr>\n",
       "  </tbody>\n",
       "</table>\n",
       "</div>"
      ],
      "text/plain": [
       "        CRIM       DIS    PTRATIO      LSTAT       MEDV\n",
       "0   1.712529  3.313514  19.483186  11.316814  21.523894\n",
       "1   0.093755  6.646459  17.791892   8.652297  23.493243\n",
       "2   0.814177  3.823865  16.452941   4.987059  39.098039\n",
       "3  10.394617  2.178282  20.267857  21.495952  13.515476\n",
       "4   1.469775  2.438969  14.937500  15.236250  20.650000"
      ]
     },
     "execution_count": 26,
     "metadata": {},
     "output_type": "execute_result"
    }
   ],
   "source": [
    "bestk_centers_back = scaleback(bestk_centers)\n",
    "bestk_centers_back"
   ]
  },
  {
   "cell_type": "markdown",
   "metadata": {},
   "source": [
    "The centers for the test and the train are veyr smimilar. Groups created:\n",
    "1. The crime rate sits in the middle among all the groups. distance to employment center is in the middle. educational level is above average. status of the population is in the middle. The value for the houses is also in the middle. I would expect this group is for the middle class houses. \n",
    "2. Crime rate is the lowest, and has the longests distance to the employment centers. educational level below average, and status is above average, value for houses are also above average. I would expect this group to be the very large farms.\n",
    "3. Low crime rate. close to centers. eudcational level average, stauts of the population very high. Value for the houses also very high. This group should be the wealthy people.\n",
    "4. Crime rate very high. Close to centers, educational level very low, stauts of the people very low, value for house also very low. This group may represent the poor neighorbohood.\n",
    "5. This group is similar to the first group with population status and education level below average. I would expect this is the cluster for lower middle class. "
   ]
  },
  {
   "cell_type": "markdown",
   "metadata": {},
   "source": [
    "7. Generate 3-5 Gaussian Mixtures (GM) with seed function for reproducibility on scaled train dataset (same as the one used for KMeans). For 50-100 random starts; there is a n_init parameter in python, no equivalent parameter in mclust (R package), Ignore this if you’re using R. Choose best mixture (component(s)) where AIC/BIC is low. That is your best GM solution."
   ]
  },
  {
   "cell_type": "code",
   "execution_count": 27,
   "metadata": {},
   "outputs": [
    {
     "data": {
      "text/plain": [
       "array([[0.00228044, 0.36888263, 0.60853391, 0.23909901, 0.40870591],\n",
       "       [0.12941023, 0.10422051, 0.80851064, 0.4504373 , 0.2458465 ],\n",
       "       [0.01972849, 0.07929999, 0.18121255, 0.31470455, 0.45658495]])"
      ]
     },
     "execution_count": 27,
     "metadata": {},
     "output_type": "execute_result"
    }
   ],
   "source": [
    "from sklearn.mixture import GaussianMixture\n",
    "\n",
    "mymixture = GaussianMixture(n_components=3,n_init=100,random_state=1234)\n",
    "mixresults=mymixture.fit(X_train_scale)\n",
    "bestGM = mixresults\n",
    "bestGM.means_"
   ]
  },
  {
   "cell_type": "code",
   "execution_count": 28,
   "metadata": {},
   "outputs": [
    {
     "name": "stdout",
     "output_type": "stream",
     "text": [
      "-4313.280841183421\n",
      "-4073.384432569127\n"
     ]
    }
   ],
   "source": [
    "print(mymixture.aic(X_train_scale))\n",
    "print(mymixture.bic(X_train_scale))"
   ]
  },
  {
   "cell_type": "code",
   "execution_count": 29,
   "metadata": {},
   "outputs": [
    {
     "name": "stdout",
     "output_type": "stream",
     "text": [
      "-4537.372276351314\n",
      "-4216.220632561211\n"
     ]
    }
   ],
   "source": [
    "mymixture = GaussianMixture(n_components=4,n_init=100,random_state=1234)\n",
    "mixresults=mymixture.fit(X_train_scale)\n",
    "print(mymixture.aic(X_train_scale))\n",
    "print(mymixture.bic(X_train_scale))"
   ]
  },
  {
   "cell_type": "code",
   "execution_count": 30,
   "metadata": {},
   "outputs": [
    {
     "name": "stdout",
     "output_type": "stream",
     "text": [
      "-4750.527943685689\n",
      "-4348.121064719777\n"
     ]
    }
   ],
   "source": [
    "mymixture = GaussianMixture(n_components=5,n_init=100,random_state=1234)\n",
    "mixresults=mymixture.fit(X_train_scale)\n",
    "print(mymixture.aic(X_train_scale))\n",
    "print(mymixture.bic(X_train_scale))"
   ]
  },
  {
   "cell_type": "markdown",
   "metadata": {},
   "source": [
    "AIC and BIC is the lowest when n_components = 3"
   ]
  },
  {
   "cell_type": "markdown",
   "metadata": {},
   "source": [
    "8. Build a GM model with best components on train data and compare it with train KMeans solution from an interpretability perspective."
   ]
  },
  {
   "cell_type": "code",
   "execution_count": 31,
   "metadata": {},
   "outputs": [
    {
     "data": {
      "text/plain": [
       "array([[11.71721711,  2.15636026, 20.2       , 18.59462594, 15.54535841],\n",
       "       [ 1.94293344,  2.37487172, 15.15502233, 10.5107782 , 32.77748924],\n",
       "       [ 0.21516274,  4.61789514, 18.41976424, 10.66498849, 23.25596372]])"
      ]
     },
     "execution_count": 31,
     "metadata": {},
     "output_type": "execute_result"
    }
   ],
   "source": [
    "mymixture = GaussianMixture(n_components=3,n_init=100,random_state=1234)\n",
    "mixresults=mymixture.fit(Xtrain)\n",
    "mixresults.means_"
   ]
  },
  {
   "cell_type": "code",
   "execution_count": 32,
   "metadata": {},
   "outputs": [
    {
     "data": {
      "text/html": [
       "<div>\n",
       "<style scoped>\n",
       "    .dataframe tbody tr th:only-of-type {\n",
       "        vertical-align: middle;\n",
       "    }\n",
       "\n",
       "    .dataframe tbody tr th {\n",
       "        vertical-align: top;\n",
       "    }\n",
       "\n",
       "    .dataframe thead th {\n",
       "        text-align: right;\n",
       "    }\n",
       "</style>\n",
       "<table border=\"1\" class=\"dataframe\">\n",
       "  <thead>\n",
       "    <tr style=\"text-align: right;\">\n",
       "      <th></th>\n",
       "      <th>CRIM</th>\n",
       "      <th>DIS</th>\n",
       "      <th>PTRATIO</th>\n",
       "      <th>LSTAT</th>\n",
       "      <th>MEDV</th>\n",
       "    </tr>\n",
       "  </thead>\n",
       "  <tbody>\n",
       "    <tr>\n",
       "      <th>0</th>\n",
       "      <td>11.717217</td>\n",
       "      <td>2.156360</td>\n",
       "      <td>20.200000</td>\n",
       "      <td>18.594626</td>\n",
       "      <td>15.545358</td>\n",
       "    </tr>\n",
       "    <tr>\n",
       "      <th>1</th>\n",
       "      <td>1.942933</td>\n",
       "      <td>2.374872</td>\n",
       "      <td>15.155022</td>\n",
       "      <td>10.510778</td>\n",
       "      <td>32.777489</td>\n",
       "    </tr>\n",
       "    <tr>\n",
       "      <th>2</th>\n",
       "      <td>0.215163</td>\n",
       "      <td>4.617895</td>\n",
       "      <td>18.419764</td>\n",
       "      <td>10.664988</td>\n",
       "      <td>23.255964</td>\n",
       "    </tr>\n",
       "  </tbody>\n",
       "</table>\n",
       "</div>"
      ],
      "text/plain": [
       "        CRIM       DIS    PTRATIO      LSTAT       MEDV\n",
       "0  11.717217  2.156360  20.200000  18.594626  15.545358\n",
       "1   1.942933  2.374872  15.155022  10.510778  32.777489\n",
       "2   0.215163  4.617895  18.419764  10.664988  23.255964"
      ]
     },
     "execution_count": 32,
     "metadata": {},
     "output_type": "execute_result"
    }
   ],
   "source": [
    "GM_centers = pd.DataFrame(mixresults.means_)\n",
    "GM_centers.columns = ['CRIM','DIS','PTRATIO','LSTAT','MEDV']\n",
    "GM_centers"
   ]
  },
  {
   "cell_type": "markdown",
   "metadata": {},
   "source": [
    "9. Compare the chosen k-means training data solution with the chosen GM solution in the\n",
    "training data from an interpretability perspective.\n",
    "10. Summarize results and interpret the clusters/segments you choose as your final solution."
   ]
  },
  {
   "cell_type": "markdown",
   "metadata": {},
   "source": [
    "The GM model produce only 3 clusters than the kmeans. The groups from the GM model are:\n",
    "1. Very high crime rate. Close to employment centers. Educatioanl quality is low, status of population is low, and value for house is low. This group could represent the lower class neighborhood.\n",
    "2. Medium crime rate. Close to employement centers. Educational quality is high, status of population is high, and Value for houses is high. I think this cluster represent the upper middle to upper class neighborhood.\n",
    "3. Very low crime rate. Distance to employment center is high. Educational quality is medium. Status is similar to the second cluster, and value for house is medium. I think this cluster represents the middle class live in the farmland neighborhood. "
   ]
  },
  {
   "cell_type": "markdown",
   "metadata": {},
   "source": [
    "I will use the 3 clusters from the GM model as my final results. Both the kmeans clusters and the GM models produce clusters that is very distinctive. The five clusters from the Kemans cluster have middle class, wealthy, large farms, lower class, and lower middle class. The 3 clusters for the GM model is very straightforward, and it has lower, upper and middle , and farm land class houses. I believe the GM is a better final result because it produces less cluster than the Kmeans method, and each cluster is more distinctive than the kmeans class. Since two groups from the kmeans method are very similar. Therefore, the three groups from the GM model will be my final result.\n"
   ]
  },
  {
   "cell_type": "markdown",
   "metadata": {},
   "source": [
    "Business Application:\n",
    "    We can use the clusters to determine the approximate value for the house. For example, if the crime rate near the house is low, and the house is close to employemnet center, and the people who near the house have middle to high status social class, Then it is reasonable to put the house in the first cluster. We can except the house to be high value"
   ]
  }
 ],
 "metadata": {
  "kernelspec": {
   "display_name": "Python 3",
   "language": "python",
   "name": "python3"
  },
  "language_info": {
   "codemirror_mode": {
    "name": "ipython",
    "version": 3
   },
   "file_extension": ".py",
   "mimetype": "text/x-python",
   "name": "python",
   "nbconvert_exporter": "python",
   "pygments_lexer": "ipython3",
   "version": "3.8.5"
  }
 },
 "nbformat": 4,
 "nbformat_minor": 4
}
